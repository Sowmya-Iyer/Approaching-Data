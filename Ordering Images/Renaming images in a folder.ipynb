{
 "cells": [
  {
   "cell_type": "markdown",
   "metadata": {},
   "source": [
    "## Listing image names"
   ]
  },
  {
   "cell_type": "code",
   "execution_count": null,
   "metadata": {
    "colab": {
     "base_uri": "https://localhost:8080/",
     "height": 1000
    },
    "colab_type": "code",
    "id": "dw1i5rsK5kZ6",
    "outputId": "94fa6ae6-cdca-4a93-9d53-cc2b3a6d9451"
   },
   "outputs": [
    {
     "name": "stdout",
     "output_type": "stream",
     "text": [
      "['T1.jpg' 'T2.jpg' 'T3.jpg' 'T4.jpg' 'T5.jpg' 'T6.jpg' 'T7.jpg' 'T8.jpg'\n",
      " 'T9.jpg' 'T10.jpg' 'T11.jpg' 'T12.jpg' 'T13.jpg' 'T14.jpg' 'T15.jpg'\n",
      " 'T16.jpg' 'T17.jpg' 'T18.jpg' 'T19.jpg' 'T20.jpg' 'T21.jpg' 'T22.jpg'\n",
      " 'T23.jpg' 'T24.jpg' 'T25.jpg' 'T26.jpg' 'T27.jpg' 'T28.jpg' 'T29.jpg'\n",
      " 'T30.jpg' 'T31.jpg' 'T32.jpg' 'T33.jpg' 'T34.jpg' 'T35.jpg' 'T36.jpg'\n",
      " 'T37.jpg' 'T38.jpg' 'T39.jpg' 'T40.jpg' 'T41.jpg' 'T42.jpg' 'T43.jpg'\n",
      " 'T44.jpg' 'T45.jpg' 'T46.jpg' 'T47.jpg' 'T48.jpg' 'T49.jpg' 'T50.jpg'\n",
      " 'T51.jpg' 'T52.jpg' 'T53.jpg' 'T54.jpg' 'T55.jpg' 'T56.jpg' 'T57.jpg'\n",
      " 'T58.jpg' 'T59.jpg' 'T60.jpg' 'T61.jpg' 'T62.jpg' 'T63.jpg' 'T64.jpg'\n",
      " 'T65.jpg' 'T66.jpg' 'T67.jpg' 'T68.jpg' 'T69.jpg' 'T70.jpg' 'T71.jpg'\n",
      " 'T72.jpg' 'T73.jpg' 'T74.jpg' 'T75.jpg' 'T76.jpg' 'T77.jpg' 'T78.jpg'\n",
      " 'T79.jpg' 'T80.jpg' 'T81.jpg' 'T82.jpg' 'T83.jpg' 'T84.jpg' 'T85.jpg'\n",
      " 'T86.jpg' 'T87.jpg' 'T88.jpg' 'T89.jpg' 'T90.jpg' 'T91.jpg' 'T92.jpg'\n",
      " 'T93.jpg' 'T94.jpg' 'T95.jpg' 'T96.jpg' 'T97.jpg' 'T98.jpg' 'T99.jpg'\n",
      " 'T100.jpg' 'T101.jpg' 'T102.jpg' 'T103.jpg' 'T104.jpg' 'T105.jpg'\n",
      " 'T106.jpg' 'T107.jpg' 'T108.jpg' 'T109.jpg' 'T110.jpg' 'T111.jpg'\n",
      " 'T112.jpg' 'T113.jpg' 'T114.jpg' 'T115.jpg' 'T116.jpg' 'T117.jpg'\n",
      " 'T118.jpg' 'T119.jpg' 'T120.jpg' 'T121.jpg' 'T122.jpg' 'T123.jpg'\n",
      " 'T124.jpg' 'T125.jpg' 'T126.jpg' 'T127.jpg' 'T128.jpg' 'T129.jpg'\n",
      " 'T130.jpg' 'T131.jpg' 'T132.jpg' 'T133.jpg' 'T134.jpg' 'T135.jpg'\n",
      " 'T136.jpg' 'T137.jpg' 'T138.jpg' 'T139.jpg' 'T140.jpg' 'T141.jpg'\n",
      " 'T142.jpg' 'T143.jpg' 'T144.jpg' 'T145.jpg' 'T146.jpg' 'T147.jpg'\n",
      " 'T148.jpg' 'T149.jpg' 'T150.jpg' 'T151.jpg' 'T152.jpg' 'T153.jpg'\n",
      " 'T154.jpg' 'T155.jpg' 'T156.jpg' 'T157.jpg' 'T158.jpg' 'T159.jpg'\n",
      " 'T160.jpg' 'T161.jpg' 'T162.jpg' 'T163.jpg' 'T164.jpg' 'T165.jpg'\n",
      " 'T166.jpg' 'T167.jpg' 'T168.jpg' 'T169.jpg' 'T170.jpg' 'T171.jpg'\n",
      " 'T172.jpg' 'T173.jpg' 'T174.jpg' 'T175.jpg' 'T176.jpg' 'T177.jpg'\n",
      " 'T178.jpg' 'T179.jpg' 'T180.jpg' 'T181.jpg' 'T182.jpg' 'T183.jpg'\n",
      " 'T184.jpg' 'T185.jpg' 'T186.jpg' 'T187.jpg' 'T188.jpg' 'T189.jpg'\n",
      " 'T190.jpg' 'T191.jpg' 'T192.jpg' 'T193.jpg' 'T194.jpg' 'T195.jpg'\n",
      " 'T196.jpg' 'T197.jpg' 'T198.jpg' 'T199.jpg' 'T200.jpg' 'T201.jpg'\n",
      " 'T202.jpg' 'T203.jpg' 'T204.jpg' 'T205.jpg' 'T206.jpg' 'T207.jpg'\n",
      " 'T208.jpg' 'T209.jpg' 'T210.jpg' 'T211.jpg' 'T212.jpg' 'T213.jpg'\n",
      " 'T214.jpg' 'T215.jpg' 'T216.jpg' 'T217.jpg' 'T218.jpg' 'T219.jpg'\n",
      " 'T220.jpg' 'T221.jpg' 'T222.jpg' 'T223.jpg' 'T224.jpg' 'T225.jpg'\n",
      " 'T226.jpg' 'T227.jpg' 'T228.jpg' 'T229.jpg' 'T230.jpg' 'T231.jpg'\n",
      " 'T232.jpg' 'T233.jpg' 'T234.jpg' 'T235.jpg' 'T236.jpg' 'T237.jpg'\n",
      " 'T238.jpg' 'T239.jpg' 'T240.jpg' 'T241.jpg' 'T242.jpg' 'T243.jpg'\n",
      " 'T244.jpg' 'T245.jpg' 'T246.jpg' 'T247.jpg' 'T248.jpg' 'T249.jpg'\n",
      " 'T250.jpg' 'T251.jpg' 'T252.jpg' 'T253.jpg' 'T254.jpg' 'T255.jpg'\n",
      " 'T256.jpg' 'T257.jpg' 'T258.jpg' 'T259.jpg' 'T260.jpg' 'T261.jpg'\n",
      " 'T262.jpg' 'T263.jpg' 'T264.jpg' 'T265.jpg' 'T266.jpg' 'T267.jpg'\n",
      " 'T268.jpg' 'T269.jpg' 'T270.jpg' 'T271.jpg' 'T272.jpg' 'T273.jpg'\n",
      " 'T274.jpg' 'T275.jpg' 'T276.jpg' 'T277.jpg' 'T278.jpg' 'T279.jpg'\n",
      " 'T280.jpg' 'T281.jpg' 'T282.jpg' 'T283.jpg' 'T284.jpg' 'T285.jpg'\n",
      " 'T286.jpg' 'T287.jpg' 'T288.jpg' 'T289.jpg' 'T290.jpg' 'T291.jpg'\n",
      " 'T292.jpg' 'T293.jpg' 'T294.jpg' 'T295.jpg' 'T296.jpg' 'T297.jpg'\n",
      " 'T298.jpg' 'T299.jpg' 'T300.jpg' 'T301.jpg' 'T302.jpg' 'T303.jpg'\n",
      " 'T304.jpg' 'T305.jpg' 'T306.jpg' 'T307.jpg' 'T308.jpg' 'T309.jpg'\n",
      " 'T310.jpg' 'T311.jpg' 'T312.jpg' 'T313.jpg' 'T314.jpg' 'T315.jpg'\n",
      " 'T316.jpg' 'T317.jpg' 'T318.jpg' 'T319.jpg' 'T320.jpg' 'T321.jpg'\n",
      " 'T322.jpg' 'T323.jpg' 'T324.jpg' 'T325.jpg' 'T326.jpg' 'T327.jpg'\n",
      " 'T328.jpg' 'T329.jpg' 'T330.jpg' 'T331.jpg' 'T332.jpg' 'T333.jpg'\n",
      " 'T334.jpg' 'T335.jpg' 'T336.jpg' 'T337.jpg' 'T338.jpg' 'T339.jpg'\n",
      " 'T340.jpg' 'T341.jpg' 'T342.jpg' 'T343.jpg' 'T344.jpg' 'T345.jpg'\n",
      " 'T346.jpg' 'T347.jpg' 'T348.jpg' 'T349.jpg' 'T350.jpg' 'T351.jpg'\n",
      " 'T352.jpg' 'T353.jpg' 'T354.jpg' 'T355.jpg' 'T356.jpg' 'T357.jpg'\n",
      " 'T358.jpg' 'T359.jpg' 'T360.jpg' 'T361.jpg' 'T362.jpg' 'T363.jpg'\n",
      " 'T364.jpg' 'T365.jpg' 'T366.jpg' 'T367.jpg' 'T368.jpg' 'T369.jpg'\n",
      " 'T370.jpg' 'T371.jpg' 'T372.jpg' 'T373.jpg' 'T374.jpg' 'T375.jpg'\n",
      " 'T376.jpg' 'T377.jpg' 'T378.jpg' 'T379.jpg' 'T380.jpg' 'T381.jpg'\n",
      " 'T382.jpg' 'T383.jpg' 'T384.jpg' 'T385.jpg' 'T386.jpg' 'T387.jpg'\n",
      " 'T388.jpg' 'T389.jpg' 'T390.jpg' 'T391.jpg' 'T392.jpg' 'T393.jpg'\n",
      " 'T394.jpg' 'T395.jpg' 'T396.jpg' 'T397.jpg' 'T398.jpg' 'T399.jpg'\n",
      " 'T400.jpg' 'T401.jpg' 'T402.jpg' 'T403.jpg' 'T404.jpg' 'T405.jpg'\n",
      " 'T406.jpg' 'T407.jpg' 'T408.jpg' 'T409.jpg' 'T410.jpg' 'T411.jpg'\n",
      " 'T412.jpg' 'T413.jpg' 'T414.jpg' 'T415.jpg' 'T416.jpg' 'T417.jpg'\n",
      " 'T418.jpg' 'T419.jpg' 'T420.jpg' 'T421.jpg' 'T422.jpg' 'T423.jpg'\n",
      " 'T424.jpg' 'T425.jpg' 'T426.jpg' 'T427.jpg' 'T428.jpg' 'T429.jpg'\n",
      " 'T430.jpg' 'T431.jpg' 'T432.jpg' 'T433.jpg' 'T434.jpg' 'T435.jpg'\n",
      " 'T436.jpg' 'T437.jpg' 'T438.jpg' 'T439.jpg' 'T440.jpg' 'T441.jpg'\n",
      " 'T442.jpg' 'T443.jpg' 'T444.jpg' 'T445.jpg' 'T446.jpg' 'T447.jpg'\n",
      " 'T448.jpg' 'T449.jpg' 'T450.jpg' 'T451.jpg' 'T452.jpg' 'T453.jpg'\n",
      " 'T454.jpg' 'T455.jpg' 'T456.jpg' 'T457.jpg' 'T458.jpg' 'T459.jpg'\n",
      " 'T460.jpg' 'T461.jpg' 'T462.jpg' 'T463.jpg' 'T464.jpg' 'T465.jpg'\n",
      " 'T466.jpg' 'T467.jpg' 'T468.jpg' 'T469.jpg' 'T470.jpg' 'T471.jpg'\n",
      " 'T472.jpg' 'T473.jpg' 'T474.jpg' 'T475.jpg' 'T476.jpg' 'T477.jpg'\n",
      " 'T478.jpg' 'T479.jpg' 'T480.jpg' 'T481.jpg' 'T482.jpg' 'T483.jpg'\n",
      " 'T484.jpg' 'T485.jpg' 'T486.jpg' 'T487.jpg' 'T488.jpg' 'T489.jpg'\n",
      " 'T490.jpg' 'T491.jpg' 'T492.jpg' 'T493.jpg' 'T494.jpg' 'T495.jpg'\n",
      " 'T496.jpg' 'T497.jpg' 'T498.jpg' 'T499.jpg' 'T500.jpg' 'T501.jpg'\n",
      " 'T502.jpg' 'T503.jpg' 'T504.jpg' 'T505.jpg' 'T506.jpg' 'T507.jpg'\n",
      " 'T508.jpg' 'T509.jpg' 'T510.jpg' 'T511.jpg' 'T512.jpg' 'T513.jpg'\n",
      " 'T514.jpg' 'T515.jpg' 'T516.jpg' 'T517.jpg' 'T518.jpg' 'T519.jpg'\n",
      " 'T520.jpg' 'T521.jpg' 'T522.jpg' 'T523.jpg' 'T524.jpg' 'T525.jpg'\n",
      " 'T526.jpg' 'T527.jpg' 'T528.jpg' 'T529.jpg' 'T530.jpg' 'T531.jpg'\n",
      " 'T532.jpg' 'T533.jpg' 'T534.jpg' 'T535.jpg' 'T536.jpg' 'T537.jpg'\n",
      " 'T538.jpg' 'T539.jpg' 'T540.jpg' 'T541.jpg' 'T542.jpg' 'T543.jpg'\n",
      " 'T544.jpg' 'T545.jpg' 'T546.jpg' 'T547.jpg' 'T548.jpg' 'T549.jpg'\n",
      " 'T550.jpg' 'T551.jpg' 'T552.jpg' 'T553.jpg' 'T554.jpg' 'T555.jpg'\n",
      " 'T556.jpg' 'T557.jpg' 'T558.jpg' 'T559.jpg' 'T560.jpg' 'T561.jpg'\n",
      " 'T562.jpg' 'T563.jpg' 'T564.jpg' 'T565.jpg' 'T566.jpg' 'T567.jpg'\n",
      " 'T568.jpg' 'T569.jpg' 'T570.jpg' 'T571.jpg' 'T572.jpg' 'T573.jpg'\n",
      " 'T574.jpg' 'T575.jpg' 'T576.jpg' 'T577.jpg' 'T578.jpg' 'T579.jpg'\n",
      " 'T580.jpg' 'T581.jpg' 'T582.jpg' 'T583.jpg' 'T584.jpg' 'T585.jpg'\n",
      " 'T586.jpg' 'T587.jpg' 'T588.jpg' 'T589.jpg' 'T590.jpg' 'T591.jpg'\n",
      " 'T592.jpg' 'T593.jpg' 'T594.jpg' 'T595.jpg' 'T596.jpg' 'T597.jpg'\n",
      " 'T598.jpg' 'T599.jpg' 'T600.jpg' 'T601.jpg' 'T602.jpg' 'T603.jpg'\n",
      " 'T604.jpg' 'T605.jpg' 'T606.jpg' 'T607.jpg' 'T608.jpg' 'T609.jpg'\n",
      " 'T610.jpg' 'T611.jpg' 'T612.jpg' 'T613.jpg' 'T614.jpg' 'T615.jpg'\n",
      " 'T616.jpg' 'T617.jpg' 'T618.jpg' 'T619.jpg' 'T620.jpg' 'T621.jpg'\n",
      " 'T622.jpg' 'T623.jpg' 'T624.jpg' 'T625.jpg' 'T626.jpg' 'T627.jpg'\n",
      " 'T628.jpg' 'T629.jpg' 'T630.jpg' 'T631.jpg' 'T632.jpg' 'T633.jpg'\n",
      " 'T634.jpg' 'T635.jpg' 'T636.jpg' 'T637.jpg' 'T638.jpg' 'T639.jpg'\n",
      " 'T640.jpg' 'T641.jpg' 'T642.jpg' 'T643.jpg' 'T644.jpg' 'T645.jpg'\n",
      " 'T646.jpg' 'T647.jpg' 'T648.jpg' 'T649.jpg' 'T650.jpg' 'T651.jpg'\n",
      " 'T652.jpg' 'T653.jpg' 'T654.jpg' 'T655.jpg' 'T656.jpg' 'T657.jpg']\n"
     ]
    }
   ],
   "source": [
    "import os\n",
    "import numpy as np\n",
    "data = \"<path>\"\n",
    "ldseg=np.array(os.listdir(data))\n",
    "print(ldseg)"
   ]
  },
  {
   "cell_type": "markdown",
   "metadata": {
    "colab_type": "text",
    "id": "eeJt0C8Sour6"
   },
   "source": [
    "## Renaming files in every folder\n"
   ]
  },
  {
   "cell_type": "code",
   "execution_count": null,
   "metadata": {
    "colab": {},
    "colab_type": "code",
    "id": "DCQqWXublffp"
   },
   "outputs": [],
   "source": [
    "import os\n",
    "i = 1\n",
    "path=\"<source path>\"\n",
    "for filename in os.listdir(path):\n",
    "  my_dest =str(os.path.split(os.path.dirname(path))[-1]) + str(i) + \".jpg\"\n",
    "  my_source =path + filename\n",
    "  my_dest =path + my_dest\n",
    "  os.rename(my_source, my_dest)\n",
    "  i += 1"
   ]
  },
  {
   "cell_type": "markdown",
   "metadata": {
    "colab_type": "text",
    "id": "wbM15R0WCMho"
   },
   "source": [
    "## Seperate Validation data\n"
   ]
  },
  {
   "cell_type": "code",
   "execution_count": null,
   "metadata": {
    "colab": {
     "base_uri": "https://localhost:8080/",
     "height": 35
    },
    "colab_type": "code",
    "id": "DCLxZZp0CRxy",
    "outputId": "acceb60f-4317-4900-c800-6811945f1e2f"
   },
   "outputs": [
    {
     "name": "stdout",
     "output_type": "stream",
     "text": [
      "/content/drive/My Drive/ISL/Validate/Wrong\n"
     ]
    }
   ],
   "source": [
    "import shutil, os\n",
    "import random\n",
    "s=<folder/category name>\n",
    "dest=\"Validate folder path\"\n",
    "path=os.path.join(dest,s)\n",
    "print(path)\n",
    "os.mkdir(path)\n",
    "dest1=dest+str(s)+\"/\"\n",
    "for i in range(0,2):\n",
    "    n=random.randint(1,100)\n",
    "    src= <train folder path> + s+\"/\"+\"err\"+str(n)+\".jpg\"\n",
    "    shutil.move(src, dest1)"
   ]
  }
 ],
 "metadata": {
  "colab": {
   "collapsed_sections": [],
   "name": "Dataset Manipulation.ipynb",
   "provenance": []
  },
  "kernelspec": {
   "display_name": "Python 3",
   "language": "python",
   "name": "python3"
  },
  "language_info": {
   "codemirror_mode": {
    "name": "ipython",
    "version": 3
   },
   "file_extension": ".py",
   "mimetype": "text/x-python",
   "name": "python",
   "nbconvert_exporter": "python",
   "pygments_lexer": "ipython3",
   "version": "3.8.2"
  }
 },
 "nbformat": 4,
 "nbformat_minor": 1
}
