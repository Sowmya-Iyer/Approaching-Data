{
 "cells": [
  {
   "cell_type": "code",
   "execution_count": 26,
   "metadata": {},
   "outputs": [],
   "source": [
    "from PIL import Image\n",
    "import glob\n",
    "image_list = []\n",
    "s= <folder name>\n",
    " # My image is a 200x374 jpeg that is 102kb large\n",
    "path= < source path >\n",
    "path2= < dest path >\n",
    "i=0\n",
    "for f in glob.glob(path+\"*.jpg\"):\n",
    "    i+=1\n",
    "    im=Image.open(f)\n",
    "    im=im.resize((300,300),Image.ANTIALIAS) #image size can be changed\n",
    "    im.save(path2+s+str(i)+\".jpg\",quality=95)\n",
    "\n",
    " # ANTIALIAS filter (gives the highest quality)\n",
    "#saved downsized image size is 24.8kb\n",
    "# im.save(\"path\\\\to\\\\save\\\\image_scaled_opt.jpg\",optimize=True,quality=95)\n"
   ]
  },
  {
   "cell_type": "code",
   "execution_count": 6,
   "metadata": {},
   "outputs": [],
   "source": []
  }
 ],
 "metadata": {
  "kernelspec": {
   "display_name": "Python 3",
   "language": "python",
   "name": "python3"
  },
  "language_info": {
   "codemirror_mode": {
    "name": "ipython",
    "version": 3
   },
   "file_extension": ".py",
   "mimetype": "text/x-python",
   "name": "python",
   "nbconvert_exporter": "python",
   "pygments_lexer": "ipython3",
   "version": "3.8.2"
  }
 },
 "nbformat": 4,
 "nbformat_minor": 4
}
